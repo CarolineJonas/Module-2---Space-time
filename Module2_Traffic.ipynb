{
 "cells": [
  {
   "cell_type": "markdown",
   "metadata": {},
   "source": [
    "***Méthodes numériques: Module 2***\n",
    "***********************************\n",
    "Space and Time: Modélisation de l'écoulement du trafic.\n",
    "==\n",
    "## Introduction #\n",
    "\n",
    "Dans ce module nous allons résoudre une équation non-linéaire à deux variables en discrétisant à la fois dans le temps (en utilisant la forward-difference) et dans l'espace (en utilisant la backward-difference). Nous utiliserons également les nouveaux outils introduit dans ce module: sympy et lambdify, qui nous permettrons d'écrire des formules mathématiques dans nos codes. Nous importons donc comme dans le module 1 la librairie numpy et matplotlib pour pouvoir dessiner des graphiques mais également sympy et lambdify."
   ]
  },
  {
   "cell_type": "code",
   "execution_count": 7,
   "metadata": {
    "collapsed": false
   },
   "outputs": [],
   "source": [
    "import numpy\n",
    "import sympy\n",
    "from matplotlib import pyplot\n",
    "%matplotlib inline\n",
    "from matplotlib import rcParams\n",
    "rcParams['font.family']='serif'\n",
    "rcParams['font.size']=16\n",
    "from sympy import init_printing\n",
    "init_printing()\n",
    "from sympy.utilities.lambdify import lambdify"
   ]
  },
  {
   "cell_type": "markdown",
   "metadata": {},
   "source": [
    "## Principe #\n",
    "\n",
    "L'équation que l'on se propose de résoudre est la suivante: $$\\frac{\\partial{\\rho}}{\\partial{t}}+\\frac{\\partial{F}}{\\partial{\\rho}}\\frac{\\partial{\\rho}}{\\partial{x}}=0$$ \n",
    "\n",
    "Cette équation modélise le flux du trafic de voitures sur l'autoroute. Il s'agit en fait de l'équation non-linéaire de convection appliquée à la densité de voiture, $\\rho$. La fonction F représente le flux des voitures donné par $F=V \\rho$ où V est la vitesse moyenne des voitures.\n",
    "\n",
    "On modélise le fait que la vitesse varie en fonction de la densité de voiture en exprimant que la vitesse est maximale quand la densité de voiture est nulle et qu'elle est nulle quand la densité de voiture atteind une densité critique que l'on appelle $\\rho_{max}$, ce qui se traduit par la formule suivante: \n",
    "\n",
    "$$V = V_{max}(1-\\frac{\\rho}{\\rho_{max}})$$\n",
    "\n",
    "Ainsi, on peut calculer que \n",
    "$$\\frac{\\partial{F}}{\\partial{\\rho}}=\\frac{\\partial{V \\rho}}{\\partial{\\rho}} = V + \\rho \\frac{\\partial{V}}{\\partial{\\rho}}$$\n",
    "\n",
    "avec $$\\frac{\\partial{V}}{\\partial{\\rho}}=-\\frac{V_{max}}{\\rho_{max}}$$\n",
    "\n",
    "On obtient finalement que $$\\frac{\\partial{F}}{\\partial{\\rho}}=V_{max} - 2\\rho \\frac{V_{max}}{\\rho_{max}}$$\n",
    "C'est-à-dire que l'équation que nous devons résoudre pour $\\rho$ est $$\\frac{\\partial{\\rho}}{\\partial{t}}+(c_{1}\\rho + c_{2})\\frac{\\partial{\\rho}}{\\partial{x}}=0$$ où $$c_{1}=-2\\frac{V_{max}}{\\rho_{max}}$$ et $$c_{2}=V_{max}$$"
   ]
  },
  {
   "cell_type": "markdown",
   "metadata": {},
   "source": [
    "Il s'agit en fait d'une combinaison des deux exemples du Module 2. Maintenant que nous avons notre équation, nous pouvons la discrétiser. \n",
    "Les exposants représentent les indices de temps et les indices en dessous sont les indices pour l'espace. La discrétisation en avant pour le temps et en arrière pour l'espace nous donne l'équation suivante:\n",
    "$$\\frac{\\rho_{i}^{n+1} - \\rho_{i}^{n}}{\\Delta t} + (c_{1}\\rho_{i}^{n} + c_{2})(\\frac{\\rho_{i}^{n} - \\rho_{i}^{n-1}}{\\Delta x})=0$$"
   ]
  },
  {
   "cell_type": "markdown",
   "metadata": {},
   "source": [
    "Dans cette équation, la seule inconnue à chaque itération est $\\rho_{i}^{n+1}$. "
   ]
  },
  {
   "cell_type": "code",
   "execution_count": null,
   "metadata": {
    "collapsed": true
   },
   "outputs": [],
   "source": []
  }
 ],
 "metadata": {
  "anaconda-cloud": {},
  "kernelspec": {
   "display_name": "Python [conda root]",
   "language": "python",
   "name": "conda-root-py"
  },
  "language_info": {
   "codemirror_mode": {
    "name": "ipython",
    "version": 3
   },
   "file_extension": ".py",
   "mimetype": "text/x-python",
   "name": "python",
   "nbconvert_exporter": "python",
   "pygments_lexer": "ipython3",
   "version": "3.5.2"
  }
 },
 "nbformat": 4,
 "nbformat_minor": 1
}
